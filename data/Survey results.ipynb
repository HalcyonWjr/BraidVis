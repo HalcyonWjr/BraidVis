{
 "cells": [
  {
   "cell_type": "code",
   "execution_count": 1,
   "id": "bba66a6f",
   "metadata": {},
   "outputs": [],
   "source": [
    "import pandas as pd\n",
    "import json"
   ]
  },
  {
   "cell_type": "code",
   "execution_count": 2,
   "id": "d155c95a",
   "metadata": {},
   "outputs": [
    {
     "name": "stdout",
     "output_type": "stream",
     "text": [
      "Index(['ID', 'Start time', 'Completion time', 'Email', 'Name',\n",
      "       'Last modified time',\n",
      "       'By proceeding with the study, I agree to all of the following statements: \\nI have read and understood the above information. I understand that my participation is voluntary, and I can withdraw at ...',\n",
      "       'In which sector(s) do you work? ',\n",
      "       'What are your areas of core expertise? ',\n",
      "       'What are your areas of core expertise? ',\n",
      "       'In what region/locality do you primarily work?',\n",
      "       'In what region/locality do you primarily work? (If UK selected)',\n",
      "       'In what country do you primarily work? (If international selected)',\n",
      "       'How would you define your career stage? '],\n",
      "      dtype='object')\n"
     ]
    }
   ],
   "source": [
    "df = pd.read_excel('Survey.xlsx', engine='openpyxl')\n",
    "print(df.columns)"
   ]
  },
  {
   "cell_type": "code",
   "execution_count": 3,
   "id": "fb99c9ae",
   "metadata": {},
   "outputs": [
    {
     "name": "stdout",
     "output_type": "stream",
     "text": [
      "Index(['id', 'start_time', 'completion_time', 'email', 'name',\n",
      "       'last_modified_time',\n",
      "       'By proceeding with the study, I agree to all of the following statements: \\nI have read and understood the above information. I understand that my participation is voluntary, and I can withdraw at ...',\n",
      "       'sectors', 'areas1', 'What are your areas of core expertise?',\n",
      "       'country_uk', 'region_uk', 'country_international', 'career_stage'],\n",
      "      dtype='object')\n"
     ]
    }
   ],
   "source": [
    "# lose the white space at begining or end of the column name\n",
    "df.columns = df.columns.str.strip()\n",
    "\n",
    "# rename most of them\n",
    "df = df.rename(columns={\n",
    "    'ID': 'id',\n",
    "    'Start time': 'start_time',\n",
    "    'Completion time': 'completion_time',\n",
    "    'Email': 'email',\n",
    "    'Name': 'name',\n",
    "    'Last modified time': 'last_modified_time',\n",
    "    'In which sector(s) do you work?': 'sectors',\n",
    "    'What are your areas of core expertise?': \"areas1\",\n",
    "    'What are your areas of core expertise? 2': \"areas2\",\n",
    "    'In what region/locality do you primarily work?': 'country_uk',\n",
    "    'In what region/locality do you primarily work? (If UK selected)': 'region_uk',\n",
    "    'In what country do you primarily work? (If international selected)': 'country_international',\n",
    "    'How would you define your career stage?': 'career_stage'\n",
    "})\n",
    "\n",
    "print(df.columns)"
   ]
  },
  {
   "cell_type": "code",
   "execution_count": 4,
   "id": "7d2b85d0",
   "metadata": {},
   "outputs": [
    {
     "name": "stdout",
     "output_type": "stream",
     "text": [
      "['By\\xa0proceeding\\xa0with the study, I agree to\\xa0all of\\xa0the following statements:\\xa0\\nI have read and understood the above information.\\xa0I understand that my participation is voluntary, and I can withdraw at ...']\n",
      "Index(['id', 'start_time', 'completion_time', 'email', 'name',\n",
      "       'last_modified_time', 'consent', 'sectors', 'areas1',\n",
      "       'What are your areas of core expertise?', 'country_uk', 'region_uk',\n",
      "       'country_international', 'career_stage'],\n",
      "      dtype='object')\n"
     ]
    }
   ],
   "source": [
    "# find the long consent column and rename\n",
    "consent_col = [col for col in df.columns if 'statements' in col]\n",
    "print(consent_col)\n",
    "\n",
    "df = df.rename(columns={consent_col[0]: 'consent'})\n",
    "\n",
    "print(df.columns)"
   ]
  },
  {
   "cell_type": "code",
   "execution_count": 5,
   "id": "a969a562",
   "metadata": {},
   "outputs": [
    {
     "name": "stdout",
     "output_type": "stream",
     "text": [
      "['What are your areas of core\\xa0expertise?']\n",
      "Index(['id', 'start_time', 'completion_time', 'email', 'name',\n",
      "       'last_modified_time', 'consent', 'sectors', 'areas1', 'areas2',\n",
      "       'country_uk', 'region_uk', 'country_international', 'career_stage'],\n",
      "      dtype='object')\n"
     ]
    }
   ],
   "source": [
    "# find areas2 and rename\n",
    "area_col = [col for col in df.columns if 'expertise' in col]\n",
    "print(area_col)\n",
    "\n",
    "df = df.rename(columns={area_col[0]: 'areas2'})\n",
    "\n",
    "print(df.columns)"
   ]
  },
  {
   "cell_type": "code",
   "execution_count": 6,
   "id": "b2bbcab6",
   "metadata": {},
   "outputs": [],
   "source": [
    "# Convert DataFrame to JSON\n",
    "json_data = df.to_json(orient='records')\n",
    "formatted_json = json.loads(json_data)\n",
    "# print(formatted_json)"
   ]
  },
  {
   "cell_type": "code",
   "execution_count": 7,
   "id": "9fd2bee4",
   "metadata": {},
   "outputs": [],
   "source": [
    "for attendee in formatted_json:\n",
    "\n",
    "    # Processing 'sectors'\n",
    "    sectors_l = attendee.get('sectors', '')\n",
    "    if sectors_l and isinstance(sectors_l, str):\n",
    "        sectors_list = sectors_l.split(';')\n",
    "        new_sectors_list = [sector.replace(\"-\", \" \").strip().lower().capitalize() for sector in sectors_list if sector and sector.strip() != \"\"]\n",
    "    else:\n",
    "        new_sectors_list = []\n",
    "    attendee['sectors'] = new_sectors_list\n",
    "\n",
    "    # Processing 'areas1'\n",
    "    areas1_str = attendee.get('areas1', '')\n",
    "    if areas1_str and isinstance(areas1_str, str):\n",
    "        areas1_list = areas1_str.split(';')\n",
    "        new_areas1_list = [area.replace(\"-\", \" \").strip().lower().capitalize() for area in areas1_list if area and area.strip() != \"\"]\n",
    "    else:\n",
    "        new_areas1_list = []\n",
    "    attendee['areas1'] = new_areas1_list\n",
    "\n",
    "    # Processing 'areas2'\n",
    "    areas2_str = attendee.get('areas2', '')\n",
    "    if areas2_str and isinstance(areas2_str, str):\n",
    "        areas2_list = areas2_str.split(',')\n",
    "        new_areas2_list = [area.replace(\"-\", \" \").strip().lower().capitalize() for area in areas2_list if area and area.strip() != \"\"]\n",
    "    else:\n",
    "        new_areas2_list = []\n",
    "\n",
    "    attendee['areas2'] = new_areas2_list\n",
    "    attendee['areas_all'] = new_areas1_list + new_areas2_list\n"
   ]
  },
  {
   "cell_type": "code",
   "execution_count": 8,
   "id": "90f3bfa6",
   "metadata": {},
   "outputs": [],
   "source": [
    "def clean_area(area):\n",
    "    if area == \"artificial intelligence\":\n",
    "        return \"AI\"\n",
    "    elif \"artificial intelligence\" in area.lower():\n",
    "        return \"AI\"\n",
    "    elif \"ai\" in area.lower():\n",
    "        return \"AI\"\n",
    "    elif \"interdisciplinary\" in area.lower():\n",
    "        return \"Interdisciplinary\"\n",
    "    elif \"technical\" in area.lower():\n",
    "        return \"Technical\"\n",
    "    elif \"philosophy\" in area.lower():\n",
    "        return \"Philosophy\"\n",
    "    elif \"ethics\" in area.lower():\n",
    "        return \"Ethics\"\n",
    "    elif \"law\" in area.lower():\n",
    "        return \"Law\"\n",
    "    elif \"policy\" in area.lower():\n",
    "        return \"Policy\"\n",
    "    elif \"machine learning\" in area.lower():\n",
    "        return \"ML\"\n",
    "    elif \"disinformation\" in area.lower():\n",
    "        return \"Disinformation\"\n",
    "    elif \"misinformation\" in area.lower():\n",
    "        return \"Misinformation\"\n",
    "    elif \"human computer interaction\" in area.lower():\n",
    "        return \"HCI\"\n",
    "    else:\n",
    "        return area"
   ]
  },
  {
   "cell_type": "code",
   "execution_count": 9,
   "id": "def742fe",
   "metadata": {},
   "outputs": [],
   "source": [
    "def clean_sector(sector):\n",
    "    if \"government\" in sector:\n",
    "        return \"public\"\n",
    "    elif \"research\" in sector:\n",
    "        return \"academia\"\n",
    "    elif \"third\" in sector:\n",
    "        return \"civil society\"\n",
    "    elif \"unemployed\" in sector.lower():\n",
    "        return \"other\"\n",
    "    elif \"ngo\" in sector.lower():\n",
    "        return \"other\"\n",
    "    else:\n",
    "        return sector"
   ]
  },
  {
   "cell_type": "code",
   "execution_count": 10,
   "id": "62d7c198",
   "metadata": {},
   "outputs": [
    {
     "name": "stdout",
     "output_type": "stream",
     "text": [
      "[{'area': 'Humanities', 'count': 52}, {'area': 'Social sciences', 'count': 51}, {'area': 'Arts', 'count': 33}, {'area': 'Technical (computing and/or engineering)', 'count': 33}, {'area': 'Policy', 'count': 32}, {'area': 'Multi/interdisciplinary (describe below)', 'count': 21}, {'area': 'Ethics', 'count': 10}, {'area': 'Business', 'count': 9}, {'area': 'Law', 'count': 7}, {'area': 'Ai', 'count': 6}]\n",
      "[{'area': 'Humanities', 'count': 52}, {'area': 'Social sciences', 'count': 51}, {'area': 'AI', 'count': 49}, {'area': 'Technical', 'count': 34}, {'area': 'Arts', 'count': 33}, {'area': 'Policy', 'count': 28}, {'area': 'Interdisciplinary', 'count': 22}, {'area': 'Ethics', 'count': 20}, {'area': 'Philosophy', 'count': 12}, {'area': 'Business', 'count': 9}]\n"
     ]
    }
   ],
   "source": [
    "area_counts = {}\n",
    "area_clean_counts = {}\n",
    "\n",
    "for record in formatted_json:\n",
    "    # new list\n",
    "    cleaned_areas = [clean_area(area) for area in record[\"areas_all\"]]\n",
    "    record[\"areas_cleaned\"] = list(set(cleaned_areas))\n",
    "    \n",
    "    # new sector\n",
    "    cleaned_sectors = [clean_sector(sector) for sector in record[\"sectors\"]]\n",
    "    record[\"sectors_cleaned\"] = list(set(cleaned_sectors))\n",
    "    \n",
    "    for area in record[\"areas_all\"]:\n",
    "        if area in area_counts:\n",
    "            area_counts[area] += 1\n",
    "        else:\n",
    "            area_counts[area] = 1\n",
    "\n",
    "    for area in record[\"areas_cleaned\"]:\n",
    "        if area in area_clean_counts:\n",
    "            area_clean_counts[area] += 1\n",
    "        else:\n",
    "            area_clean_counts[area] = 1\n",
    "\n",
    "result = [{\"area\": key, \"count\": value} for key, value in area_counts.items()]\n",
    "result_clean = [{\"area\": key, \"count\": value} for key, value in area_clean_counts.items()]\n",
    "\n",
    "sorted_result = sorted(result, key=lambda x: x[\"count\"], reverse=True)\n",
    "sorted_result_clean = sorted(result_clean, key=lambda x: x[\"count\"], reverse=True)\n",
    "\n",
    "print(sorted_result[:10])\n",
    "print(sorted_result_clean[:10])\n",
    "\n",
    "output_area = {\"areas_all\": sorted_result}\n",
    "output_area_clean = {\"areas_all_clean\": sorted_result_clean}\n",
    "\n",
    "formatted_output_area = json.dumps(output_area, indent=4)\n",
    "formatted_output_area_clean = json.dumps(output_area_clean, indent=4)\n",
    "\n",
    "# with open('output_area.json', 'w') as json_file:\n",
    "#     json_file.write(formatted_output_area)\n",
    "    \n",
    "# with open('output_area_clean.json', 'w') as json_file:\n",
    "#     json_file.write(formatted_output_area_clean)"
   ]
  },
  {
   "cell_type": "code",
   "execution_count": 11,
   "id": "6c1ae147",
   "metadata": {},
   "outputs": [],
   "source": [
    "top_12_clean = sorted_result_clean[:12]\n",
    "top_12_clean_areas = [item[\"area\"] for item in top_12_clean]\n",
    "\n",
    "for record in formatted_json:\n",
    "    record[\"areas_short\"] = [area for area in record[\"areas_cleaned\"] if area in top_12_clean_areas]"
   ]
  },
  {
   "cell_type": "code",
   "execution_count": 12,
   "id": "41b61716",
   "metadata": {},
   "outputs": [],
   "source": [
    "top_clean = sorted_result_clean[:30]\n",
    "top_clean_areas = [item[\"area\"] for item in top_clean]\n",
    "\n",
    "for record in formatted_json:\n",
    "    record[\"areas_grouped\"] = [area for area in record[\"areas_cleaned\"] if area in top_clean_areas]"
   ]
  },
  {
   "cell_type": "code",
   "execution_count": 13,
   "id": "0c255d84",
   "metadata": {},
   "outputs": [],
   "source": [
    "for record in formatted_json:\n",
    "    if record[\"career_stage\"] in [\"Early career\", \"Mid career\", \"Advanced career\"]:\n",
    "        record[\"career\"] = [record[\"career_stage\"]]\n",
    "    else:\n",
    "        record[\"career\"] = [\"Other\"]"
   ]
  },
  {
   "cell_type": "code",
   "execution_count": 14,
   "id": "f2483c18",
   "metadata": {},
   "outputs": [],
   "source": [
    "output_data = {\"attendees\": formatted_json}\n",
    "formatted_output_data = json.dumps(output_data, indent=4)\n",
    "\n",
    "# Write\n",
    "with open('output_attendees.json', 'w') as json_file:\n",
    "    json_file.write(formatted_output_data)"
   ]
  },
  {
   "cell_type": "code",
   "execution_count": null,
   "id": "0d3f1975",
   "metadata": {},
   "outputs": [],
   "source": []
  }
 ],
 "metadata": {
  "kernelspec": {
   "display_name": "Python 3 (ipykernel)",
   "language": "python",
   "name": "python3"
  },
  "language_info": {
   "codemirror_mode": {
    "name": "ipython",
    "version": 3
   },
   "file_extension": ".py",
   "mimetype": "text/x-python",
   "name": "python",
   "nbconvert_exporter": "python",
   "pygments_lexer": "ipython3",
   "version": "3.11.3"
  }
 },
 "nbformat": 4,
 "nbformat_minor": 5
}
