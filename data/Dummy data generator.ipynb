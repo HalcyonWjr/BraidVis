{
 "cells": [
  {
   "cell_type": "code",
   "execution_count": 1,
   "id": "18e88693",
   "metadata": {},
   "outputs": [],
   "source": [
    "import pandas as pd\n",
    "import numpy as np\n",
    "import json\n",
    "import datetime"
   ]
  },
  {
   "cell_type": "code",
   "execution_count": 2,
   "id": "91469ac7",
   "metadata": {},
   "outputs": [],
   "source": [
    "from faker import Faker\n",
    "fake = Faker()\n",
    "\n",
    "def generate_fake_name():\n",
    "    return fake.name()"
   ]
  },
  {
   "cell_type": "code",
   "execution_count": 3,
   "id": "fd785049",
   "metadata": {},
   "outputs": [],
   "source": [
    "# def generate_random_name():\n",
    "#     first_names = [\"Tom\", \"Jane\", \"John\", \"Alice\", \"Bob\", \"Charlie\", \"Daisy\", \"Emma\", \"Frank\", \"Grace\", \"Harry\"]\n",
    "#     last_names = [\"Higgins\", \"Ven\", \"Doe\", \"Smith\", \"Williams\", \"Brown\", \"Johnson\", \"Turner\", \"Phillips\", \"Evans\", \"Adams\"]\n",
    "    \n",
    "#     name = f\"{np.random.choice(first_names)} {np.random.choice(last_names)}\"\n",
    "#     return name"
   ]
  },
  {
   "cell_type": "code",
   "execution_count": 6,
   "id": "f9177f4a",
   "metadata": {},
   "outputs": [],
   "source": [
    "def generate_dummy_data(N):\n",
    "    areas_choices = [\"Arts\", \"Humanities\", \"Social Sciences\", \"Technical\", \"Health\", \"Physical\", \"Law\", \"Policy\", \"Business\"]\n",
    "    sectors_choices = [\"Academia\", \"Industry\", \"Government\",  \"Third Sector\", \"Media\", \"Creative\"]\n",
    "    regions = [\"EH\", \"LN\", \"SW\", \"SE\", \"NW\", \"NE\", \"GL\", \"BR\", \"BS\", \"SL\", \"GU\", \"RH\", \"OX\", \"NG\", \"BT\", \"DE\", \"BD\", \"FY\", \"CT\", \"PL\"]\n",
    "    career_stages = [\"Early Career\", \"Mid Career\", \"Late Career\"]\n",
    "\n",
    "    attendees = []\n",
    "\n",
    "    for i in range(N):\n",
    "        attendee = {}\n",
    "        attendee[\"id\"] = i + 1\n",
    "        attendee[\"name\"] = generate_fake_name()\n",
    "        attendee[\"areas\"] = list(np.random.choice(areas_choices, np.random.randint(1,4), replace=False))\n",
    "        attendee[\"sectors\"] = list(np.random.choice(sectors_choices, np.random.randint(1,4), replace=False))\n",
    "        attendee[\"region\"] = np.random.choice(regions)\n",
    "        attendee[\"career_stage\"] = np.random.choice(career_stages)\n",
    "\n",
    "        attendees.append(attendee)\n",
    "    \n",
    "    return {\"attendees\": attendees}\n",
    "\n",
    "N = 100"
   ]
  },
  {
   "cell_type": "code",
   "execution_count": 7,
   "id": "3a8b013f",
   "metadata": {},
   "outputs": [],
   "source": [
    "dummy_data = generate_dummy_data(N)"
   ]
  },
  {
   "cell_type": "code",
   "execution_count": 9,
   "id": "5bed5994",
   "metadata": {},
   "outputs": [],
   "source": [
    "# Convert the data to a JSON string\n",
    "json_data = json.dumps(dummy_data, indent=4)\n",
    "\n",
    "# Save to a file\n",
    "with open(\"dummy_attendees.json\", \"w\") as file:\n",
    "    file.write(json_data)"
   ]
  },
  {
   "cell_type": "code",
   "execution_count": null,
   "id": "fb9f0d03",
   "metadata": {},
   "outputs": [],
   "source": []
  }
 ],
 "metadata": {
  "kernelspec": {
   "display_name": "Python 3 (ipykernel)",
   "language": "python",
   "name": "python3"
  },
  "language_info": {
   "codemirror_mode": {
    "name": "ipython",
    "version": 3
   },
   "file_extension": ".py",
   "mimetype": "text/x-python",
   "name": "python",
   "nbconvert_exporter": "python",
   "pygments_lexer": "ipython3",
   "version": "3.11.3"
  }
 },
 "nbformat": 4,
 "nbformat_minor": 5
}
